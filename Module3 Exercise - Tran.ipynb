{
 "cells": [
  {
   "cell_type": "markdown",
   "metadata": {},
   "source": [
    "1. Print cookies and milk are a great dessert."
   ]
  },
  {
   "cell_type": "code",
   "execution_count": null,
   "metadata": {},
   "outputs": [],
   "source": [
    "print(\"cookies and milk are a great dessert\")"
   ]
  },
  {
   "cell_type": "markdown",
   "metadata": {},
   "source": [
    "2. Print out your favorite color and above the code, comment what you are doing."
   ]
  },
  {
   "cell_type": "code",
   "execution_count": null,
   "metadata": {},
   "outputs": [],
   "source": [
    "# using the print() function to display my fave color\n",
    "\n",
    "print(\"green\")"
   ]
  },
  {
   "cell_type": "markdown",
   "metadata": {},
   "source": [
    "3. Print out your favority color again and add an in-line comment."
   ]
  },
  {
   "cell_type": "code",
   "execution_count": null,
   "metadata": {},
   "outputs": [],
   "source": [
    "print(\"green\") # using print() function to display my fave color"
   ]
  },
  {
   "cell_type": "markdown",
   "metadata": {},
   "source": [
    "4. Print the sumation of numbers 1 to 10"
   ]
  },
  {
   "cell_type": "code",
   "execution_count": null,
   "metadata": {},
   "outputs": [],
   "source": [
    "total_sum = 0\n",
    "for num in range(1,11):\n",
    "    total_sum +=num\n",
    "print(total_sum)"
   ]
  },
  {
   "cell_type": "markdown",
   "metadata": {},
   "source": [
    "5. Print what 6 to the 7th power is."
   ]
  },
  {
   "cell_type": "code",
   "execution_count": null,
   "metadata": {},
   "outputs": [],
   "source": [
    "print(6**7)"
   ]
  },
  {
   "cell_type": "markdown",
   "metadata": {},
   "source": [
    "6. Print the remainder of 100 divided by 11. "
   ]
  },
  {
   "cell_type": "code",
   "execution_count": null,
   "metadata": {},
   "outputs": [],
   "source": [
    "remainder = 100 % 11\n",
    "print(remainder)"
   ]
  },
  {
   "cell_type": "markdown",
   "metadata": {},
   "source": [
    "7. What is the result of \"Python\" + \"1\""
   ]
  },
  {
   "cell_type": "code",
   "execution_count": null,
   "metadata": {},
   "outputs": [],
   "source": [
    "Python1"
   ]
  },
  {
   "cell_type": "markdown",
   "metadata": {},
   "source": [
    "8. Print out 100 divided by 5"
   ]
  },
  {
   "cell_type": "code",
   "execution_count": null,
   "metadata": {},
   "outputs": [],
   "source": [
    "print(100/5)"
   ]
  },
  {
   "cell_type": "markdown",
   "metadata": {},
   "source": [
    "9. What is the difference between 10/4 and 10//4?  Print out the result"
   ]
  },
  {
   "cell_type": "code",
   "execution_count": null,
   "metadata": {},
   "outputs": [],
   "source": [
    "print(10/4) #with remainder\n",
    "print(10//4) #without"
   ]
  },
  {
   "cell_type": "markdown",
   "metadata": {},
   "source": [
    "10. Create a variable named foo that stores a string value."
   ]
  },
  {
   "cell_type": "code",
   "execution_count": 11,
   "metadata": {},
   "outputs": [],
   "source": [
    "foo = \"Hello\""
   ]
  },
  {
   "cell_type": "markdown",
   "metadata": {},
   "source": [
    "11. Print foo variable"
   ]
  },
  {
   "cell_type": "code",
   "execution_count": 12,
   "metadata": {},
   "outputs": [
    {
     "name": "stdout",
     "output_type": "stream",
     "text": [
      "Hello\n"
     ]
    }
   ],
   "source": [
    "print(foo)"
   ]
  },
  {
   "cell_type": "markdown",
   "metadata": {},
   "source": [
    "12. Create a variable called height and store your height value there.\n",
    "Print a sentence describing your height and use the variable in the sentence as well."
   ]
  },
  {
   "cell_type": "code",
   "execution_count": 8,
   "metadata": {},
   "outputs": [
    {
     "name": "stdout",
     "output_type": "stream",
     "text": [
      "My height is 5'3\n"
     ]
    }
   ],
   "source": [
    "height = \"5'3\"\n",
    "print(f\"My height is {height}\")"
   ]
  },
  {
   "cell_type": "markdown",
   "metadata": {},
   "source": [
    "13. Concate two strings together using variables and print out the result"
   ]
  },
  {
   "cell_type": "code",
   "execution_count": 15,
   "metadata": {},
   "outputs": [
    {
     "name": "stdout",
     "output_type": "stream",
     "text": [
      "My birthday is in May.I'm going to have chocolate cake\n"
     ]
    }
   ],
   "source": [
    "sentence_1 = \"My birthday is in May.\"\n",
    "sentence_2 = \"I'm going to have chocolate cake\"\n",
    "full_sentence = sentence_1 + \"\"+sentence_2\n",
    "\n",
    "print(full_sentence)"
   ]
  },
  {
   "cell_type": "markdown",
   "metadata": {},
   "source": [
    "14. Use the two different quotes in a string and print out the sentence"
   ]
  },
  {
   "cell_type": "code",
   "execution_count": 16,
   "metadata": {},
   "outputs": [
    {
     "name": "stdout",
     "output_type": "stream",
     "text": [
      "My birthday is in May. I'm going to have chocolate cake\n"
     ]
    }
   ],
   "source": [
    "print(f\"{sentence_1} {sentence_2}\")"
   ]
  },
  {
   "cell_type": "markdown",
   "metadata": {},
   "source": [
    "15. Print out Hello World! 7 times each on a new line using only one line of code."
   ]
  },
  {
   "cell_type": "code",
   "execution_count": 1,
   "metadata": {},
   "outputs": [
    {
     "name": "stdout",
     "output_type": "stream",
     "text": [
      "Hello World!\n",
      "Hello World!\n",
      "Hello World!\n",
      "Hello World!\n",
      "Hello World!\n",
      "Hello World!\n",
      "Hello World!\n"
     ]
    }
   ],
   "source": [
    "print(\"Hello World!\\n\" * 7, end=\"\")"
   ]
  },
  {
   "cell_type": "markdown",
   "metadata": {},
   "source": [
    "16. What is the result of \"apple\" > \"Apple\""
   ]
  },
  {
   "cell_type": "code",
   "execution_count": null,
   "metadata": {},
   "outputs": [],
   "source": [
    "true"
   ]
  },
  {
   "cell_type": "markdown",
   "metadata": {},
   "source": [
    "17. Print out if 25 multiplied by 54 is bigger than 33 multipled by 33"
   ]
  },
  {
   "cell_type": "code",
   "execution_count": 4,
   "metadata": {},
   "outputs": [
    {
     "name": "stdout",
     "output_type": "stream",
     "text": [
      "25 multiplied by 54 is bigger than 33 multiplied by 33\n"
     ]
    }
   ],
   "source": [
    "result1 = 25 * 54\n",
    "result2 = 33 * 33\n",
    "\n",
    "if result1 > result2:\n",
    "    print(\"25 multiplied by 54 is bigger than 33 multiplied by 33\")\n",
    "else:\n",
    "    print(\"25 multiplied by 54 is not bigger than 33 multiplied by 33\")\n"
   ]
  },
  {
   "cell_type": "markdown",
   "metadata": {},
   "source": [
    "18. What is the result of of 123 == “123”?"
   ]
  },
  {
   "cell_type": "code",
   "execution_count": null,
   "metadata": {},
   "outputs": [],
   "source": [
    "false"
   ]
  },
  {
   "cell_type": "markdown",
   "metadata": {},
   "source": [
    "19. Ask a user for width and length of a rectangle. Then compute its area and perimeter."
   ]
  },
  {
   "cell_type": "code",
   "execution_count": 17,
   "metadata": {},
   "outputs": [
    {
     "name": "stdout",
     "output_type": "stream",
     "text": [
      "Enter the width of the rectangle: 12\n",
      "Enter the length of the rectangle: 16\n",
      "The area is:  192\n",
      "The perimeter is: 56\n"
     ]
    }
   ],
   "source": [
    "width = int(input(\"Enter the width of the rectangle: \"))\n",
    "length = int(input(\"Enter the length of the rectangle: \"))\n",
    "area = width * length\n",
    "perimeter = 2 * (width + length)\n",
    "print(\"The area is: \", area)\n",
    "print(\"The perimeter is:\", perimeter)"
   ]
  },
  {
   "cell_type": "markdown",
   "metadata": {},
   "source": [
    "20. Ask a user for two whole numbers. Then compute their sum and difference."
   ]
  },
  {
   "cell_type": "code",
   "execution_count": 19,
   "metadata": {},
   "outputs": [
    {
     "name": "stdout",
     "output_type": "stream",
     "text": [
      "Enter the first whole number: 10\n",
      "Enter the second whole number: 14\n",
      "The sum is: 24\n",
      "The difference is -4\n"
     ]
    }
   ],
   "source": [
    "num1 = int(input(\"Enter the first whole number: \"))\n",
    "num2 = int(input(\"Enter the second whole number: \"))\n",
    "\n",
    "sum = num1 + num2\n",
    "difference = num1 - num2\n",
    "\n",
    "print(\"The sum is:\", sum)\n",
    "print(\"The difference is\", difference)\n"
   ]
  },
  {
   "cell_type": "code",
   "execution_count": null,
   "metadata": {},
   "outputs": [],
   "source": []
  }
 ],
 "metadata": {
  "kernelspec": {
   "display_name": "Python 3 (ipykernel)",
   "language": "python",
   "name": "python3"
  },
  "language_info": {
   "codemirror_mode": {
    "name": "ipython",
    "version": 3
   },
   "file_extension": ".py",
   "mimetype": "text/x-python",
   "name": "python",
   "nbconvert_exporter": "python",
   "pygments_lexer": "ipython3",
   "version": "3.11.5"
  }
 },
 "nbformat": 4,
 "nbformat_minor": 4
}
